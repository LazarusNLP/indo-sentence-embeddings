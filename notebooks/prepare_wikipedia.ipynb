{
 "cells": [
  {
   "cell_type": "code",
   "execution_count": 1,
   "metadata": {},
   "outputs": [
    {
     "name": "stderr",
     "output_type": "stream",
     "text": [
      "/usr/local/lib/python3.10/dist-packages/tqdm/auto.py:21: TqdmWarning: IProgress not found. Please update jupyter and ipywidgets. See https://ipywidgets.readthedocs.io/en/stable/user_install.html\n",
      "  from .autonotebook import tqdm as notebook_tqdm\n",
      "Found cached dataset wikipedia (/root/.cache/huggingface/datasets/olm___wikipedia/20230520.id-date=20230520,language=id/2.0.0/dbfec0358f063ec7ae9e247d6559e2e505fbce7463e666024718863cbf199ec6)\n"
     ]
    }
   ],
   "source": [
    "from datasets import load_dataset\n",
    "\n",
    "dataset = load_dataset(\"olm/wikipedia\", split=\"train\", language=\"id\", date=20230520)"
   ]
  },
  {
   "cell_type": "code",
   "execution_count": 2,
   "metadata": {},
   "outputs": [
    {
     "data": {
      "text/plain": [
       "{'id': '1',\n",
       " 'url': 'https://id.wikipedia.org/wiki/Asam%20deoksiribonukleat',\n",
       " 'title': 'Asam deoksiribonukleat',\n",
       " 'text': 'Asam deoksiribonukleat, lebih dikenal dengan singkatan DNA (bahasa Inggris: deoxyribonucleic acid), adalah salah satu jenis asam nukleat yang memiliki kemampuan pewarisan sifat. Keberadaan asam deoksiribonukleat ditemukan di dalam nukleoprotein yang membentuk inti sel. James Dewey Watson dan Francis Crick merupakan ilmuwan pertama yang mengajukan model struktur DNA pada tahun 1953 dengan bentuk pilinan ganda. Setiap DNA tersusun dari dua buah rantai polinukleotida. DNA merupakan sejenis biomolekul yang menyimpan dan menyandi instruksi-instruksi genetika setiap organisme dan banyak jenis virus. Instruksi-instruksi genetika ini berperan penting dalam pertumbuhan, perkembangan, dan fungsi organisme dan virus. DNA merupakan asam nukleat; bersamaan dengan protein dan karbohidrat, asam nukleat adalah makromolekul esensial bagi seluruh makhluk hidup yang diketahui. Kebanyakan molekul DNA terdiri dari dua unting biopolimer yang berpilin satu sama lainnya membentuk heliks ganda. Dua unting DNA ini dikenal sebagai polinukleotida karena keduanya terdiri dari satuan-satuan molekul yang disebut nukleotida. Tiap-tiap nukleotida terdiri atas salah satu jenis basa nitrogen (guanina (G), adenina (A), timina (T), atau sitosina (C)), gula monosakarida yang disebut deoksiribosa, dan gugus fosfat. Nukleotida-nukelotida ini kemudian tersambung dalam satu rantai ikatan kovalen antara gula satu nukleotida dengan fosfat nukelotida lainnya. Hasilnya adalah rantai punggung gula-fosfat yang berselang-seling. Menurut kaidah pasangan basa (A dengan T dan C dengan G), ikatan hidrogen mengikat basa-basa dari kedua unting polinukleotida membentuk DNA unting ganda\\n\\nDua unting DNA bersifat anti-paralel, yang berarti bahwa keduanya berpasangan secara berlawanan. Pada setiap gugus gula, terikat salah satu dari empat jenis nukleobasa. Urutan asam nukleat empat nukleobasa di sepanjang rantai punggung DNA inilah yang menyimpan kode informasi biologis. Melalui proses biokimia yang disebut transkripsi, unting DNA digunakan sebagai templat untuk membuat unting RNA. Unting RNA ini kemudian ditranslasikan untuk menentukan urutan asam amino protein yang dibangun.\\n\\nStruktur kimia DNA yang ada membuatnya sangat cocok untuk menyimpan informasi biologis setiap makhluk hidup. Rantai punggung DNA resisten terhadap pembelahan kimia, dan kedua-dua unting dalam struktur unting ganda DNA menyimpan informasi biologis yang sama. Karenanya, informasi biologis ini akan direplikasi ketika dua unting DNA dipisahkan. Sebagian besar DNA (lebih dari 98% pada manusia) bersifat non-kode, yang berarti bagian ini tidak berfungsi menyandikan protein.\\n\\nDalam sel, DNA tersusun dalam kromosom. Semasa pembelahan sel, kromosom-kromosom ini diduplikasi dalam proses yang disebut replikasi DNA. Organisme eukariotik (hewan, tumbuhan, fungi, dan protista) menyimpan kebanyakan DNA-nya dalam inti sel dan sebagian kecil sisanya dalam organel seperti mitokondria ataupun kloroplas. Sebaliknya organisme prokariotik (bakteri dan arkaea) menyimpan DNA-nya hanya dalam sitoplasma. Dalam kromosom, protein kromatin seperti histon berperan dalam penyusunan DNA menjadi struktur kompak. Struktur kompak inilah yang kemudian berinteraksi antara DNA dengan protein lainnya, sehingga membantu kontrol bagian-bagian DNA mana sajakah yang dapat ditranskripsikan.\\n\\nPara ilmuwan menggunakan DNA sebagai alat molekuler untuk menyingkap teori-teori dan hukum-hukum fisika, seperti misalnya teorema ergodik dan teori elastisitas. Sifat-sifat materi DNA yang khas membuatnya sangat menarik untuk diteliti bagi ilmuwan dan insinyur yang bekerja di bidang mikrofabrikasi dan nanofabrikasi material. Beberapa kemajuan di bidang material ini misalnya origami DNA dan material hibrida berbasis DNA.\\n\\nSifat-sifat DNA \\n\\nDNA merupakan sebuah polimer yang terdiri dari satuan-satuan berulang yang disebut nukleotida. Tiap-tiap nukleotida terdiri dari tiga komponen utama, yakni gugus fosfat, gula deoksiribosa, dan basa nitrogen (nukleobasa). Pada DNA, nukleobasa yang ditemukan adalah Adenina (A), Guanina (G), Sitosina (C) dan Timina (T). Nukleobasa yang terhubung dengan sebuah gugus gula disebut sebagai nukleosida, dan nukleosida yang terhubung dengan satu atau lebih gugus fosfat disebut sebagai nukleotida. Polimer yang terdiri dari nukleotida yang saling terhubung menjadi satu rantai disebut sebagai polinukleotida. Sehingga DNA termasuk pula ke dalam polinukleotida.\\n\\nRantai punggung unting DNA terdiri dari gugus fosfat dan gula yang berselang-seling. Gula pada DNA adalah gula pentosa (berkarbon lima), yaitu 2-deoksiribosa. Dua gugus gula terhubung dengan fosfat melalui ikatan fosfodiester antara atom karbon ketiga pada cincin satu gula dan atom karbon kelima pada gula lainnya. Ikatan yang tidak simetris ini membuat DNA memiliki arah atau orientasi tertentu. Pada struktur heliks ganda, orientasi rantai nukleotida pada satu unting berlawanan dengan orientasi nukleotida unting lainnya. Hal ini disebut sebagai antiparalel. Kedua ujung asimetris DNA disebut sebagai 5\\' (lima prima) dan 3\\' (tiga prima). Ujung 5\\' memiliki gugus fosfat terminus, sedangkan ujung 3\\' memiliki gugus hidroksi terminus. Salah satu perbedaan utama DNA dan RNA adalah gula penyusunnya, yakni gula 2-deoksiribosa pada DNA digantikan gula ribosa pada RNA.\\n\\nDalam organisme hidup, DNA biasanya ditemukan dalam bentuk berpasangan dan terikat kuat. Dua unting DNA saling berpilin membentuk heliks ganda. Heliks ganda ini distabilisasi oleh dua ikatan hidrogen antar nukleotida dan interaksi tumpukan antar nukleobasa aromatik. Dalam lingkungan sel yang berair, ikatan π konjugasi antar basa nukleotida tersusun tegak lurus terhadap sumbu pilinan DNA. Hal ini meminimalisasi interaksi dengan cangkang solvasi, dan sehingganya menurunkan energi bebas Gibbs.\\n\\nStruktur DNA semua jenis spesies terdiri dari dua rantai heliks yang berpilin dengan jarak antar putaran heliks 34\\xa0Å (3,4\\xa0nanometer) dan jari-jari 10\\xa0Å (1.0\\xa0nanometer). Menurut kajian lainnya, ketika diukur menggunakan larutan tertentu, rantai DNA memiliki lebar 22-26\\xa0Å (2,2-2,6\\xa0nanometer) sedangkan satu satuan nukleotida memiliki panjang 33\\xa0Å (0,33\\xa0nm). Walaupun satuan nukleotida ini sangatlah kecil, polimer DNA dapat memiliki jutaan nukleotida yang terangkai seperti rantai. Misalnya, kromosom 1 yang merupakan kromosom terbesar pada manusia mengandung sekitar 220 juta pasangan basa.\\n\\nNukleobasa DNA \\nNukleobasa diklasifikasikan ke dalam dua jenis: purina (A dan G) yang berupa fusi senyawa heterolingkar beranggota lima dengan senyawa heterolingkar beranggota enam, dan pirimidina (C dan T) yang berupa cincin beranggota enam. Pirimidina lainnya, urasil (U), biasanya menggantikan timina pada RNA. Perbedaan urasil dengan timina terletak pada ketiadaan gugus metil pada cincin urasil. Selain kelima nukleobasa tersebut, terdapat pula sejumlah besar analog asam nukleat buatan yang telah disintesis untuk mengkaji sifat-sifat asam nukleat dan digunakan dalam bioteknologi.\\n\\nUrasil biasanya tidak ditemukan dalam DNA (ditemukan dalam sel hanya sebagai produk uraian sitosina). Namun pada sejumlah bakteriofag– bakteriofag PBS1 dan PBS2 Bacillus subtilis dan bakteriofag piR1-37 Yersinia– timina telah digantikan oleh urasil. Fag lainnya - fag S6 Staphylococcus - juga telah diidentifikasi mempunyai urasil pada genomnya.\\n\\nBasa J (beta-d-glukopiranosiloksimetilurasil) yang merupakan bentuk modifikasi dari urasil juga dapat ditemukan pada sejumlah organisme: flagellata Diplonema dan Euglena, dan seluruh organisme marga kinetoplastid Biosintesis basa J terjadi dalam dua tahap: pada tahap pertama, basa timina spesifik pada DNA diubah menjadi hidroksimetildeoksiuridina (HOMedU); pada tahap kedua HOMedU diglikosilasi menjadi basa J. Protein-protein yang mengikat basa J ini juga telah berhasil diidentifikasi. Protein-protein ini tampaknya merupakan kerabat jauh dari onkogen Tet1 yang terlibat dalam patogenesis leukemia myeloid akut. Basa J tampaknya bekerja sebagai sinyal terminasi untuk RNA polimerase II.\\n\\nAlur DNA \\nPada struktur heliks ganda DNA, terdapat ruang antar unting DNA yang juga berbentuk alur heliks. Ruang kosong ini bersebelahan dengan pasangan basa dan merupakan tapak ikatan yang potensial. Dikarenakan kedua unting DNA tidak berposisi secara simetris satu sama lainnya, alur yang dihasilkan jugalah tidak berukuran sama. Satu alur yang disebut alur mayor, memiliki lebar 22\\xa0Å, sedangkan alur lainnya yang disebut alur minor, memiliki lebar 12\\xa0Å. Lebarnya alur mayor berarti bahwa tepi-tepi basa nukleotida dapat lebih mudah diakses melalui alur mayor daripada melalui alur minor. Akibatnya, protein-protein seperti faktor-faktor transkripsi yang mengikat pada urutan basa tertentu biasanya melakukan kontak dengan basa melalui alur mayor. Situasi ini dapat bervariasi pada konformasi DNA yang tak lazim dalam sel, walaupun alur mayor dan minor selalu dinamai demikian untuk menrefleksikan perbedaan ukuran yang terlihat apabila DNA dipuntir balik menjadi bentuk lazim B.\\n\\nPemasangan basa \\n\\nPada heliks ganda DNA, tiap jenis nukleobasa pada satu unting DNA berikatan hanya dengan satu jenis nukleobasa dari unting DNA lainnya. Hal ini disebut sebagai pemasangan basa komplementer. Purina akan membentuk ikatan hidrogen dengan pirimidina; adenina berikatan dengan timina dalam dua ikatan hidrogen, dan sitosina berikatan dengan guanina dalam tiga ikatan hidrogen. Susunan dua nukleotida ini disebut sebagai satu pasangan basa. Karena ikatan hidrogen tidak bersifat kovalen, ia dapat putuskan dan digabung kembali relatif mudah. Kedua unting DNA dalam heliks ganda oleh karenanya dapat ditarik terbuka seperti zipper, baik melalui gaya mekanika maupun temperatur tinggi. Karena pasangan basa ini bersifat komplementer, semua informasi pada urutan unting ganda heliks DNA terduplikasi pada tiap unting. Hal ini sangat penting dalam replikasi DNA. Interaksi reversible dan spesifik antara pasangan basa komplementer sangat kritikal terhadap keseluruhan fungsi DNA dalam makhluk hidup.\\nAtas, pasangan basa GC dengan tiga ikatan hidrogen. Bawah, pasangan basa AT dengan dua ikatan hidrogen. Ikatan hidrogen non-kovalen ditunjukkan oleh garis putus-putus. Dua jenis pasangan basa mempunyai jumlah ikatan hidrogen yang berbeda. Pasangan AT memiliki dua ikatan hidrogen, sedangkan pasangan GC memiliki tiga ikatan hidrogen. DNA yang mengandung pasangan basa GC yang tinggi lebih stabil daripada DNA berpasangan basa GC rendah.\\n\\nSebagaimana telah disebutkan di atas, kebanyakan molekul DNA ditemukan dalam keadaan unting ganda yang berikatan secara non-kovalen dan berbentuk heliks. Struktur unting ganda ini (dsDNA, double-stranded DNA) utamanya distabilkan oleh interaksi tumpukan basa intra-unting. Interaksi yang terkuat ada pada tumpukan G dengan C. Kedua unting tersebut dapat dipisahkan menjadi dua molekul DNA unting tunggal (ssDNA, single-stranded DNA) melalui proses yang dinamakan peleburan DNA. Peleburan terjadi pada temperatur tinggi, kadar garam yang reandah, dan nilai pH yang tinggi (DNA juga melebur pada nilai pH rendah, tetapi dikarenakan DNA tidak stabil akibat depurinasi asam, peleburan pH rendah jarang digunakan).\\n\\nStabilitas dsDNA tidak hanya bergantung pada kandungan GC (% pasangan basa G,C) DNA, namun juga tergantung pada urutan basa (tumpukan basa) dan panjang molekul DNA tersebut (molekul yang lebih panjang lebih stabil). Oleh sebab itu, kekuatan ikatan antar dua unting DNA ditentukan oleh persentase pasangan basa GC dan keseluruhan panjang heliks ganda DNA. Heliks DNA\\u3000yang panjang dengan kandungan GC yang tinggi memiliki interaksi antar-unting yang lebih kuat; sebaliknya heliks DNA yang pendek dengan kandungan AT yang tinggi memiliki interaksi antar-unting yang lebih lemah. Dalam proses biologis, bagian heliks ganda DNA yang perlu dipisahkan dengan mudah seperti kotak Pribnow TATAAT pada beberapa promotor cenderung memiliki kandungan AT yang tinggi.\\n\\nStabilitas DNA dapat diukur melalui berbagai cara; umumnya stabilitas DNA diukur berdasarkan temperatur lebur DNA (disebut juga nilai Tm), yakni temperatur di mana 50% molekul DNA unting ganda terurai menjadi molekul DNA unting tunggal. Temperatur lebur ini bergantung pada kekuatan ionik dan konsentrasi DNA. Ketika seluruh pasangan basa dalam heliks ganda DNA terurai, kedua unting DNA akan terpisah sebagai dua molekul yang berdiri sendiri. Unting-unting tunggal DNA ini tidak memiliki bentuk tunggal yang sama, walaupun beberapa konformasi lebih stabil daripada konformasi lainnya.\\n\\nSense dan antisense \\n\\nSebuah urutan sekuens DNA disebut sebagai \"sense\" apabila urutan basa DNA-nya sama dengan urutan kopi RNA duta yang ditranslasikan menjadi protein. Urutan pada unting komplementernya disebut sebagai urutan \"antisense\". Baik urutan sense dan antisense dapat ditemukan pada berbagai bagian unting DNA yang sama (kedua unting DNA dapat mengandung baik urutan sense maupun antisense). Pada prokariota dan eukariota, urutan RNA antisense juga diproduksi, namun fungsi RNA antisense ini tidaklah diketahui dengan jelas. RNA antisense diajukan terlibat dalam regulasi ekspresi gen melalui pemasangan basa RNA-RNA.\\n\\nPada sebagian kecil urutan DNA prokariota dan eukariota, dan sebagian besar urutan DNA plasmid dan virus, perbedaan antara unting sense dan antisense menjadi kabur dikarenakan terdapatnya gen yang tumpang tindih. Dalam hal ini, beberapa urutan DNA memiliki tugas ganda, yakni menyandikan protein pertama ketika dibaca melalui salah satu unting, dan menyandikan protein kedua ketika dibaca dengan arah berlawanan melalui unting komplementernya. Pada bakteri, ketumpangtindihan ini kemungkinan terlibat dalam regulasi transkripsi gen. Sedangkan pada virus, gen yang tumpang tindih ini meningkatkan jumlah informasi yang dapat disandikan dalam genom virus yang berukuran kecil.\\n\\nPemilinan kumparan (Supercoiling) \\n\\nDNA dapat dipuntir menjadi seperti tali melalui proses yang disebut pemilinan kumparan DNA. Pada kondisi \"relaksasi\", unting DNA biasanya akan mengitari sumbu heliks ganda setiap 10,4 pasangan basa. Namun jika DNA dipuntir, unting-untingnya dapat tergulung menjadi lebih rapat ataupun tergulung menjadi lebih longgar. Jika DNA dipuntir searah putaran heliks, basa-basa dalam unting DNA akan terikat lebih rapat. Hal ini dinamakan pemilinan kumparan positif. Sebaliknya jika DNA dipuntir berlawanan putaran heliks, basa-basa dalam unting DNA akan terlepas lebih mudah. Hal ini dinamakan pemilinan kumparan negatif. Secara alamiah, kebanyakan DNA memiliki bentuk pemilinan kumparan negatif yang disebabkan oleh enzim topoisomerase. Enzim ini juga diperlukan untuk melepaskan tegangan puntiran yang dialami DNA semasa proses transkripsi dan replikasi.\\n\\nStruktur alternatif DNA \\nTerdapat banyak kemungkinan konformasi-konformasi DNA yang dapat kita temukan, di antaranya A-DNA, B-DNA, dan Z-DNA, walaupun hanya B-DNA dan Z-DNA saja yang telah diamati secara langsung pada organisme fungsional. Konformasi-konformasi yang diadopsi oleh DNA bergantung pada tingkat hidrasi DNA, urutan DNA, tingkat dan arah pilinan kumparan DNA, modifikasi kimiawi pada basa DNA, jenis dan konsentrasi ion-ion logam, maupun keberadaan poliamina dalam larutan.\\n\\nBasis buatan \\nBeberapa nukleobasa buatan telah berhasil disintesis, dan berhasil dimasukkan ke dalam analog DNA berbasa delapan bernama DNA Hachimoji.\\n\\nFungsi biologis\\n\\nReplikasi \\n\\nReplikasi merupakan proses pelipatgandaan DNA. Proses replikasi ini diperlukan ketika sel akan membelah diri. Pada setiap sel, kecuali sel gamet, pembelahan diri harus disertai dengan replikasi DNA supaya semua sel turunan memiliki informasi genetik yang sama. Pada dasarnya, proses replikasi memanfaatkan fakta bahwa DNA terdiri dari dua rantai dan rantai yang satu merupakan \"konjugat\" dari rantai pasangannya. Dengan kata lain, dengan mengetahui susunan satu rantai, maka susunan rantai pasangan dapat dengan mudah dibentuk.\\n\\nAda beberapa teori yang mencoba menjelaskan bagaimana proses replikasi DNA ini terjadi. Salah satu teori yang paling populer menyatakan bahwa pada masing-masing DNA baru yang diperoleh pada akhir proses replikasi; satu rantai tunggal merupakan rantai DNA dari rantai DNA sebelumnya, sedangkan rantai pasangannya merupakan rantai yang baru disintesis. Rantai tunggal yang diperoleh dari DNA sebelumnya tersebut bertindak sebagai \"cetakan\" untuk membuat rantai pasangannya.\\n\\nProses replikasi memerlukan protein atau enzim pembantu; salah satu yang terpenting dikenal dengan nama DNA polimerase, yang merupakan enzim pembantu pembentukan rantai DNA baru yang merupakan suatu polimer. Proses replikasi diawali dengan pembukaan untaian ganda DNA pada titik-titik tertentu di sepanjang rantai DNA. Proses pembukaan rantai DNA ini dibantu oleh enzim helikase yang dapat mengenali titik-titik tersebut, dan enzim girase yang mampu membuka pilinan rantai DNA.\\n\\nSetelah cukup ruang terbentuk akibat pembukaan untaian ganda ini, DNA polimerase masuk dan mengikat diri pada kedua rantai DNA yang sudah terbuka secara lokal tersebut. Proses pembukaan rantai ganda tersebut berlangsung disertai dengan pergeseran DNA polimerase mengikuti arah membukanya rantai ganda. Monomer DNA ditambahkan di kedua sisi rantai yang membuka setiap kali DNA polimerase bergeser. Hal ini berlanjut sampai seluruh rantai telah benar-benar terpisah.\\n\\nProses replikasi DNA ini merupakan proses yang rumit namun teliti. Proses sintesis rantai DNA baru memiliki suatu mekanisme yang mencegah terjadinya kesalahan pemasukan monomer yang dapat berakibat fatal. Karena mekanisme inilah kemungkinan terjadinya kesalahan sintesis amatlah kecil.\\n\\nPenggunaan DNA dalam teknologi dan riset ilmiah\\n\\nDNA dalam forensik \\nIlmuwan forensik dapat menggunakan DNA yang terdapat dalam darah, sperma, kulit, liur atau rambut yang tersisa di tempat kejadian kejahatan untuk mengidentifikasi kemungkinan tersangka, sebuah proses yang disebut fingerprinting genetika atau pemprofilan DNA (DNA profiling). Dalam pemprofilan DNA panjang relatif dari bagian DNA yang berulang seperti short tandem repeats dan minisatelit, dibandingkan. Pemprofilan DNA dikembangkan pada 1984 oleh genetikawan Inggris Alec Jeffreys dari Universitas Leicester, dan pertama kali digunakan untuk mendakwa Colin Pitchfork pada 1988 dalam kasus pembunuhan Enderby di Leicestershire, Inggris.\\n\\nBanyak yurisdiksi membutuhkan terdakwa dari kejahatan tertentu untuk menyediakan sebuah contoh DNA untuk dimasukkan ke dalam basis data komputer. Hal ini telah membantu investigator menyelesaikan kasus lama di mana pelanggar tidak diketahui dan hanya contoh DNA yang diperoleh dari tempat kejadian (terutama dalam kasus pemerkosaan antar orang tak dikenal). Metode ini adalah salah satu teknik paling tepercaya untuk mengidentifikasi seorang pelaku kejahatan, tetapi tidak selalu sempurna, misalnya bila tidak ada DNA yang dapat diperoleh, atau bila tempat kejadian terkontaminasi oleh DNA dari banyak orang.\\n\\nDNA dalam komputasi \\nDNA memainkan peran penting dalam ilmu komputer, baik sebagai masalah riset dan sebagai sebuah cara komputasi.\\n\\nRiset dalam algoritme pencarian string, yang menemukan kejadian dari urutan huruf di dalam urutan huruf yang lebih besar, dimotivasi sebagian oleh riset DNA, di mana algoritme ini digunakan untuk mencari urutan tertentu dari nukleotida dalam sebuah urutan yang besar. Dalam aplikasi lainnya seperti editor text, bahkan algoritme sederhana untuk masalah ini biasanya mencukupi, tetapi urutan DNA menyebabkan algoritme-algoritme ini untuk menunjukkan sifat kasus-mendekati-terburuk dikarenakan jumlah kecil dari karakter yang berbeda.\\n\\nTeori database juga telah dipengaruhi oleh riset DNA, yang memiliki masalah khusus untuk menaruh dan memanipulasi urutan DNA. Database yang dikhususkan untuk riset DNA disebut database genomik, dam harus menangani sejumlah tantangan teknis yang unik yang dihubungkan dengan operasi pembandingan kira-kira, pembandingan urutan, mencari pola yang berulang, dan pencarian homologi.\\n\\nDNA dalam kajian Islam \\nDNA memainkan peran penting dalam kajian Islam seperti studi tafsir Al-Qur\\'an, terutama ketika mengkaji tema-tema yang terkait dengan nasab, genealogi, silsilah dan sejarah. Ilmuwan yang ahli di bidang DNA dan memadukan kajiannya dengan kajian Al-Qur\\'an adalah Shohibul Faroji Al-Azhmatkhan  dengan karyanya Tafsir Midadurrahman sebanyak 115 jilid dan menjadi mufassir yang mendapatkan penghargaan MURI sebagai penulis tafsir terpanjang dan tertebal di seluruh dunia., dalam tafsir ini dikaji secara detail tentang DNA dari Nabi Adam sampai dikaji juga DNA dari 3110 Fam keturunan Nabi Muhammad dari 1555 fam keturunan Hasan bin Ali dan 1555 Fam keturunan Husain bin Ali di 199 Negara seluruh dunia.\\n\\nSejarah \\nDNA pertama kali berhasil dimurnikan pada tahun 1868 oleh ilmuwan Swiss Friedrich Miescher di Tubingen, Jerman, yang menamainya nuclein berdasarkan lokasinya di dalam inti sel. Namun, penelitian terhadap peranan DNA di dalam sel baru dimulai pada awal abad 20, bersamaan dengan ditemukannya postulat genetika Mendel. DNA dan protein dianggap dua molekul yang paling memungkinkan sebagai pembawa sifat genetis berdasarkan teori tersebut.\\n\\nDua eksperimen pada dekade 40-an membuktikan fungsi DNA sebagai materi genetik. Dalam penelitian oleh Avery dan rekan-rekannya, ekstrak dari sel bakteri yang satu gagal men-transform sel bakteri lainnya kecuali jika DNA dalam ekstrak dibiarkan utuh. Eksperimen yang dilakukan Hershey dan Chase membuktikan hal yang sama dengan menggunakan pencari jejak radioaktif ().\\n\\nMisteri yang belum terpecahkan ketika itu adalah: \"bagaimanakah struktur DNA sehingga ia mampu bertugas sebagai materi genetik\". Persoalan ini dijawab oleh Francis Crick dan koleganya James Watson berdasarkan hasil difraksi sinar X pada DNA oleh Maurice Wilkins dan Rosalind Franklin.\\n\\nPada tahun 1953, James Watson dan Francis Crick mendefinisikan DNA sebagai polimer yang terdiri dari 4 basa dari asam nukleat, dua dari kelompok purina:adenina dan guanina; dan dua lainnya dari kelompok pirimidina:sitosina dan timina. Keempat nukleobasa tersebut terhubung dengan glukosa fosfat.\\n\\nMaurice Wilkins dan Rosalind Franklin menemukan bahwa molekul DNA berbentuk heliks yang berputar setiap 3,4\\xa0nm, sedangkan jarak antar molekul nukleobasa adalah 0,34\\xa0nm, hingga dapat ditentukan bahwa terdapat 10 molekul nukleobasa pada setiap putaran DNA. Setelah diketahui bahwa diameter heliks DNA sekitar 2\\xa0nm, baru diketahui bahwa DNA terdiri bukan dari 1 rantai, melainkan 2 rantai heliks.\\n\\nCrick, Watson, dan Wilkins mendapatkan hadiah Nobel Kedokteran pada 1962 atas penemuan ini. Franklin, karena sudah wafat pada waktu itu, tidak dapat dianugerahi hadiah ini.\\n\\nKonfirmasi akhir mekanisme replikasi DNA dilakukan lewat percobaan Meselson-Stahl yang dilakukan tahun 1958.\\n\\nReferensi \\n\\nNukleat asam DNA\\nAsam nukleat'}"
      ]
     },
     "execution_count": 2,
     "metadata": {},
     "output_type": "execute_result"
    }
   ],
   "source": [
    "dataset[0]"
   ]
  },
  {
   "cell_type": "code",
   "execution_count": 3,
   "metadata": {},
   "outputs": [
    {
     "name": "stderr",
     "output_type": "stream",
     "text": [
      "100%|██████████| 647041/647041 [00:21<00:00, 30052.81it/s]\n"
     ]
    }
   ],
   "source": [
    "from tqdm.auto import tqdm\n",
    "\n",
    "split_data = []\n",
    "for data in tqdm(dataset):\n",
    "    text = data[\"text\"]\n",
    "    for line in text.split(\"\\n\"):\n",
    "        line = line.strip()\n",
    "        if line != \"\":\n",
    "            d = data.copy()\n",
    "            d[\"text\"] = line\n",
    "            split_data.append(d)"
   ]
  },
  {
   "cell_type": "code",
   "execution_count": 4,
   "metadata": {},
   "outputs": [
    {
     "data": {
      "text/plain": [
       "[{'id': '1',\n",
       "  'url': 'https://id.wikipedia.org/wiki/Asam%20deoksiribonukleat',\n",
       "  'title': 'Asam deoksiribonukleat',\n",
       "  'text': 'Asam deoksiribonukleat, lebih dikenal dengan singkatan DNA (bahasa Inggris: deoxyribonucleic acid), adalah salah satu jenis asam nukleat yang memiliki kemampuan pewarisan sifat. Keberadaan asam deoksiribonukleat ditemukan di dalam nukleoprotein yang membentuk inti sel. James Dewey Watson dan Francis Crick merupakan ilmuwan pertama yang mengajukan model struktur DNA pada tahun 1953 dengan bentuk pilinan ganda. Setiap DNA tersusun dari dua buah rantai polinukleotida. DNA merupakan sejenis biomolekul yang menyimpan dan menyandi instruksi-instruksi genetika setiap organisme dan banyak jenis virus. Instruksi-instruksi genetika ini berperan penting dalam pertumbuhan, perkembangan, dan fungsi organisme dan virus. DNA merupakan asam nukleat; bersamaan dengan protein dan karbohidrat, asam nukleat adalah makromolekul esensial bagi seluruh makhluk hidup yang diketahui. Kebanyakan molekul DNA terdiri dari dua unting biopolimer yang berpilin satu sama lainnya membentuk heliks ganda. Dua unting DNA ini dikenal sebagai polinukleotida karena keduanya terdiri dari satuan-satuan molekul yang disebut nukleotida. Tiap-tiap nukleotida terdiri atas salah satu jenis basa nitrogen (guanina (G), adenina (A), timina (T), atau sitosina (C)), gula monosakarida yang disebut deoksiribosa, dan gugus fosfat. Nukleotida-nukelotida ini kemudian tersambung dalam satu rantai ikatan kovalen antara gula satu nukleotida dengan fosfat nukelotida lainnya. Hasilnya adalah rantai punggung gula-fosfat yang berselang-seling. Menurut kaidah pasangan basa (A dengan T dan C dengan G), ikatan hidrogen mengikat basa-basa dari kedua unting polinukleotida membentuk DNA unting ganda'},\n",
       " {'id': '1',\n",
       "  'url': 'https://id.wikipedia.org/wiki/Asam%20deoksiribonukleat',\n",
       "  'title': 'Asam deoksiribonukleat',\n",
       "  'text': 'Dua unting DNA bersifat anti-paralel, yang berarti bahwa keduanya berpasangan secara berlawanan. Pada setiap gugus gula, terikat salah satu dari empat jenis nukleobasa. Urutan asam nukleat empat nukleobasa di sepanjang rantai punggung DNA inilah yang menyimpan kode informasi biologis. Melalui proses biokimia yang disebut transkripsi, unting DNA digunakan sebagai templat untuk membuat unting RNA. Unting RNA ini kemudian ditranslasikan untuk menentukan urutan asam amino protein yang dibangun.'},\n",
       " {'id': '1',\n",
       "  'url': 'https://id.wikipedia.org/wiki/Asam%20deoksiribonukleat',\n",
       "  'title': 'Asam deoksiribonukleat',\n",
       "  'text': 'Struktur kimia DNA yang ada membuatnya sangat cocok untuk menyimpan informasi biologis setiap makhluk hidup. Rantai punggung DNA resisten terhadap pembelahan kimia, dan kedua-dua unting dalam struktur unting ganda DNA menyimpan informasi biologis yang sama. Karenanya, informasi biologis ini akan direplikasi ketika dua unting DNA dipisahkan. Sebagian besar DNA (lebih dari 98% pada manusia) bersifat non-kode, yang berarti bagian ini tidak berfungsi menyandikan protein.'}]"
      ]
     },
     "execution_count": 4,
     "metadata": {},
     "output_type": "execute_result"
    }
   ],
   "source": [
    "split_data[:3]"
   ]
  },
  {
   "cell_type": "code",
   "execution_count": 5,
   "metadata": {},
   "outputs": [
    {
     "data": {
      "text/plain": [
       "Dataset({\n",
       "    features: ['id', 'url', 'title', 'text'],\n",
       "    num_rows: 10059935\n",
       "})"
      ]
     },
     "execution_count": 5,
     "metadata": {},
     "output_type": "execute_result"
    }
   ],
   "source": [
    "from datasets import Dataset\n",
    "\n",
    "dataset = Dataset.from_list(split_data)\n",
    "dataset"
   ]
  },
  {
   "cell_type": "code",
   "execution_count": 6,
   "metadata": {},
   "outputs": [
    {
     "data": {
      "text/plain": [
       "{'id': '1',\n",
       " 'url': 'https://id.wikipedia.org/wiki/Asam%20deoksiribonukleat',\n",
       " 'title': 'Asam deoksiribonukleat',\n",
       " 'text': 'Asam deoksiribonukleat, lebih dikenal dengan singkatan DNA (bahasa Inggris: deoxyribonucleic acid), adalah salah satu jenis asam nukleat yang memiliki kemampuan pewarisan sifat. Keberadaan asam deoksiribonukleat ditemukan di dalam nukleoprotein yang membentuk inti sel. James Dewey Watson dan Francis Crick merupakan ilmuwan pertama yang mengajukan model struktur DNA pada tahun 1953 dengan bentuk pilinan ganda. Setiap DNA tersusun dari dua buah rantai polinukleotida. DNA merupakan sejenis biomolekul yang menyimpan dan menyandi instruksi-instruksi genetika setiap organisme dan banyak jenis virus. Instruksi-instruksi genetika ini berperan penting dalam pertumbuhan, perkembangan, dan fungsi organisme dan virus. DNA merupakan asam nukleat; bersamaan dengan protein dan karbohidrat, asam nukleat adalah makromolekul esensial bagi seluruh makhluk hidup yang diketahui. Kebanyakan molekul DNA terdiri dari dua unting biopolimer yang berpilin satu sama lainnya membentuk heliks ganda. Dua unting DNA ini dikenal sebagai polinukleotida karena keduanya terdiri dari satuan-satuan molekul yang disebut nukleotida. Tiap-tiap nukleotida terdiri atas salah satu jenis basa nitrogen (guanina (G), adenina (A), timina (T), atau sitosina (C)), gula monosakarida yang disebut deoksiribosa, dan gugus fosfat. Nukleotida-nukelotida ini kemudian tersambung dalam satu rantai ikatan kovalen antara gula satu nukleotida dengan fosfat nukelotida lainnya. Hasilnya adalah rantai punggung gula-fosfat yang berselang-seling. Menurut kaidah pasangan basa (A dengan T dan C dengan G), ikatan hidrogen mengikat basa-basa dari kedua unting polinukleotida membentuk DNA unting ganda'}"
      ]
     },
     "execution_count": 6,
     "metadata": {},
     "output_type": "execute_result"
    }
   ],
   "source": [
    "dataset[0]"
   ]
  },
  {
   "cell_type": "code",
   "execution_count": 8,
   "metadata": {},
   "outputs": [
    {
     "name": "stderr",
     "output_type": "stream",
     "text": [
      "Creating parquet from Arrow format: 100%|██████████| 2515/2515 [00:01<00:00, 1577.57ba/s]\n",
      "Upload 1 LFS files: 100%|██████████| 1/1 [00:07<00:00,  7.05s/it]\n",
      "Creating parquet from Arrow format: 100%|██████████| 2515/2515 [00:01<00:00, 1817.36ba/s]\n",
      "Upload 1 LFS files: 100%|██████████| 1/1 [00:05<00:00,  5.25s/it]\n",
      "Creating parquet from Arrow format: 100%|██████████| 2515/2515 [00:01<00:00, 1477.81ba/s]\n",
      "Upload 1 LFS files: 100%|██████████| 1/1 [00:06<00:00,  6.43s/it]\n",
      "Creating parquet from Arrow format: 100%|██████████| 2515/2515 [00:01<00:00, 1537.12ba/s]\n",
      "Upload 1 LFS files: 100%|██████████| 1/1 [00:05<00:00,  5.94s/it]\n",
      "Pushing dataset shards to the dataset hub: 100%|██████████| 4/4 [00:33<00:00,  8.38s/it]\n"
     ]
    }
   ],
   "source": [
    "dataset.push_to_hub(\"LazarusNLP/wikipedia_id_20230520\", private=True)"
   ]
  },
  {
   "cell_type": "code",
   "execution_count": null,
   "metadata": {},
   "outputs": [],
   "source": []
  }
 ],
 "metadata": {
  "kernelspec": {
   "display_name": "Python 3",
   "language": "python",
   "name": "python3"
  },
  "language_info": {
   "codemirror_mode": {
    "name": "ipython",
    "version": 3
   },
   "file_extension": ".py",
   "mimetype": "text/x-python",
   "name": "python",
   "nbconvert_exporter": "python",
   "pygments_lexer": "ipython3",
   "version": "3.10.6"
  },
  "orig_nbformat": 4
 },
 "nbformat": 4,
 "nbformat_minor": 2
}
